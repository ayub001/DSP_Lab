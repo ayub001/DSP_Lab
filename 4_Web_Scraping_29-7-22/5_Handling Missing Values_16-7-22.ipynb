{
 "cells": [
  {
   "cell_type": "code",
   "execution_count": 1,
   "id": "5c285b78",
   "metadata": {},
   "outputs": [],
   "source": [
    "#Python|Pandas DataFrame.dropna()"
   ]
  },
  {
   "cell_type": "code",
   "execution_count": 2,
   "id": "18e43f54",
   "metadata": {},
   "outputs": [],
   "source": [
    "#Syntax : df.dropna(axis=0, thresh=None, subset=None, inplace=Flase)"
   ]
  },
  {
   "cell_type": "code",
   "execution_count": 3,
   "id": "eef3a83f",
   "metadata": {},
   "outputs": [],
   "source": [
    "import pandas as pd"
   ]
  },
  {
   "cell_type": "code",
   "execution_count": 4,
   "id": "22c95276",
   "metadata": {},
   "outputs": [
    {
     "name": "stdout",
     "output_type": "stream",
     "text": [
      "Old data frame length: 50 \n",
      "New data frame length: 50 \n",
      "Number of rows with at least 1 NA value:  0\n"
     ]
    }
   ],
   "source": [
    "data = pd.read_csv(\"data.csv\")\n",
    "\n",
    "new_data = data.dropna(axis = 0, how = 'any')\n",
    "print(\"Old data frame length:\", len(data), \n",
    "      \"\\nNew data frame length:\", len(new_data),\n",
    "      \"\\nNumber of rows with at least 1 NA value: \", (len(data)-len(new_data)))"
   ]
  },
  {
   "cell_type": "code",
   "execution_count": 5,
   "id": "148f8ff7",
   "metadata": {},
   "outputs": [
    {
     "name": "stdout",
     "output_type": "stream",
     "text": [
      " --> ['Rank' 'Username' 'Owner' 'Followers (millions)' 'Profession/Activity'\n",
      " 'Country/Continent'] \n",
      "\n",
      " --> ['Rank' 'Username' 'Owner' 'Followers (millions)' 'Profession/Activity'\n",
      " 'Country/Continent' 'Null Column']\n",
      "\n",
      "Column number before dropping Null column\n",
      " 6 7\n",
      "\n",
      "Column number after dropping Null column\n",
      " 6 6\n"
     ]
    }
   ],
   "source": [
    "data = pd.read_csv(\"data.csv\")\n",
    "\n",
    "new = pd.read_csv(\"data.csv\")\n",
    "\n",
    "new[\"Null Column\"]= None\n",
    "\n",
    "print(\" -->\",data.columns.values, \"\\n\\n\",\"-->\",new.columns.values)\n",
    "\n",
    "print(\"\\nColumn number before dropping Null column\\n\", len(data.dtypes), len(new.dtypes))\n",
    "\n",
    "new.dropna(axis = 1, how ='all', inplace = True)\n",
    "\n",
    "print(\"\\nColumn number after dropping Null column\\n\", len(data.dtypes), len(new.dtypes))"
   ]
  },
  {
   "cell_type": "code",
   "execution_count": 6,
   "id": "395f3fbe",
   "metadata": {
    "scrolled": true
   },
   "outputs": [
    {
     "name": "stdout",
     "output_type": "stream",
     "text": [
      "    Rank             Username                  Owner  Followers (millions)                              Profession/Activity    Country/Continent\n",
      "0      1           @instagram              Instagram                 515.0                            Social media platform        United States\n",
      "1      2           @cristiano      Cristiano Ronaldo                 450.0                                       Footballer             Portugal\n",
      "2      3         @kyliejenner           Kylie Jenner                 344.0  Television personality, model and businesswoman        United States\n",
      "3      4            @leomessi           Lionel Messi                 333.0                                       Footballer            Argentina\n",
      "4      5         @selenagomez           Selena Gomez                 324.0    Musician, actress, producer and businesswoman        United States\n",
      "5      6             @therock         Dwayne Johnson                 320.0                  Actor and professional wrestler        United States\n",
      "6      7       @kimkardashian         Kim Kardashian                 316.0  Television personality, model and businesswoman        United States\n",
      "7      8        @arianagrande          Ariana Grande                 314.0                             Musician and actress        United States\n",
      "8      9             @beyonce          Ariana Grande                 261.0              Musician, actress and businesswoman        United States\n",
      "9     10     @khloekardashian        Khlo Kardashian                 249.0                 Television personality and model        United States\n",
      "10    11       @kendalljenner         Kendall Jenner                 240.0                 Model and television personality        United States\n",
      "11    12        @justinbieber          Justin Bieber                 239.0                                         Musician               Canada\n",
      "12    13              @natgeo    National Geographic                 225.0                                         Magazine        United States\n",
      "13    14                @nike                   Nike                 221.0                         Sportswear multinational        United States\n",
      "14    15         @taylorswift           Taylor Swift                 213.0                                         Musician        United States\n",
      "15    16                 @jlo         Jennifer Lopez                 211.0                             Musician and actress        United States\n",
      "16    17         @virat.kohli            Virat Kohli                 199.0                                        Cricketer                India\n",
      "17    18          @nickiminaj            Nicki Minaj                 192.0                                         Musician  Trinidad and Tobago\n",
      "18    19     @kourtneykardash    Kourtney Kardashian                 182.0                 Television personality and model        United States\n",
      "19    20            @neymarjr                 Neymar                 175.0                                       Footballer               Brazil\n",
      "20    21          @mileycyrus            Miley Cyrus                 173.0                             Musician and actress        United States\n",
      "21    22           @katyperry             Katy Perry                 163.0                                         Musician        United States\n",
      "22    23      @kevinhart4real             Kevin Hart                 143.0                               Comedian and actor        United States\n",
      "23    24             @zendaya                Zendaya                 143.0                                          Actress        United States\n",
      "24    25            @ddlovato            Demi Lovato                 133.0                               Musician and actor        United States\n",
      "25    26           @iamcardib                Cardi B                 133.0                               Musician and actor        United States\n",
      "26    27          @badgalriri                Rihanna                 130.0                       Musician and businesswoman             Barbados\n",
      "27    28           @kingjames           LeBron James                 123.0                                Basketball player        United States\n",
      "28    29        @theellenshow        Ellen DeGeneres                 121.0              Comedian and television personality        United States\n",
      "29    30          @realmadrid         Real Madrid CF                 119.0                                    Football club                Spain\n",
      "30    31       @champagnepapi                  Drake                 112.0                                         Musician               Canada\n",
      "31    32  @chrisbrownofficial            Chris Brown                 111.0                                         Musician        United States\n",
      "32    33         @fcbarcelona           FC Barcelona                 109.0                                    Football club                Spain\n",
      "33    34        @billieeilish          Billie Eilish                 103.0                                         Musician        United States\n",
      "34    35     @championsleague  UEFA Champions League                  94.5                        Club football competition               Europe\n",
      "35    36             @dualipa               Dua Lipa                  84.0                                         Musician       United Kingdom\n",
      "36    37           @gal_gadot              Gal Gadot                  81.7                                          Actress               Israel\n",
      "37    38           @vindiesel             Vin Diesel                  80.7                                            Actor        United States\n",
      "38    39      @priyankachopra        Priyanka Chopra                  79.0                             Actress and musician                India\n",
      "39    40        @lalalalisa_m                   Lisa                  78.3                               Musician and model             Thailand\n",
      "40    41             @khaby00             Khaby Lame                  78.0                         Social media personality                Italy\n",
      "41    42                @nasa                   NASA                  77.8                                     Space agency        United States\n",
      "42    43           @gigihadid             Gigi Hadid                  74.6                                            Model        United States\n",
      "43    44             @shakira                Shakira                  74.1                                         Musician             Colombia\n",
      "44    45           @snoopdogg             Snoop Dogg                  73.9                                         Musician        United States\n",
      "45    46        @davidbeckham          David Beckham                  73.8                         Social media personality       United Kingdom\n",
      "46    47     @victoriassecret      Victoria's Secret                  72.8                                 Lingerie Company        United States\n",
      "47    48      @shraddhakapoor        Shraddha Kapoor                  72.8                                          Actress                India\n",
      "48    49            @k.mbappe           Kylian Mbapp                  71.4                                       Footballer               France\n",
      "49    50          @nehakakkar            Neha Kakkar                  70.1                                         Musician                India\n"
     ]
    }
   ],
   "source": [
    "df = pd.read_csv('data.csv')\n",
    "\n",
    "newdf = df.dropna()\n",
    "\n",
    "print(newdf.to_string())"
   ]
  },
  {
   "cell_type": "code",
   "execution_count": null,
   "id": "10ac8634",
   "metadata": {},
   "outputs": [],
   "source": []
  }
 ],
 "metadata": {
  "interpreter": {
   "hash": "e6ff321c66da33510c2181957392518618ced093cc4768492893a0f3325d72fc"
  },
  "kernelspec": {
   "display_name": "Python 3 (ipykernel)",
   "language": "python",
   "name": "python3"
  },
  "language_info": {
   "codemirror_mode": {
    "name": "ipython",
    "version": 3
   },
   "file_extension": ".py",
   "mimetype": "text/x-python",
   "name": "python",
   "nbconvert_exporter": "python",
   "pygments_lexer": "ipython3",
   "version": "3.9.12"
  }
 },
 "nbformat": 4,
 "nbformat_minor": 5
}
