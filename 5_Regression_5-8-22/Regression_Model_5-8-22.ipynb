{
 "cells": [
  {
   "cell_type": "code",
   "execution_count": 13,
   "id": "0d45462c",
   "metadata": {},
   "outputs": [
    {
     "name": "stdout",
     "output_type": "stream",
     "text": [
      "[[ 4]\n",
      " [ 5]\n",
      " [ 6]\n",
      " [ 9]\n",
      " [12]]\n",
      "[2 5 6 7 9]\n",
      "0.8486539266285396\n",
      "[[3.46728972]\n",
      " [4.19626168]\n",
      " [4.92523364]\n",
      " [7.11214953]\n",
      " [9.29906542]]\n"
     ]
    },
    {
     "data": {
      "image/png": "[encoded data removed]",
      "text/plain": [
       "<Figure size 432x288 with 1 Axes>"
      ]
     },
     "metadata": {
      "needs_background": "light"
     },
     "output_type": "display_data"
    }
   ],
   "source": [
    "#LinearRegression\n",
    "\n",
    "import numpy as np\n",
    "import pandas as pd\n",
    "import matplotlib.pyplot as plt\n",
    "from sklearn.linear_model import LinearRegression\n",
    "\n",
    "x = np.array([4,5,6,9,12]).reshape(-1,1)\n",
    "print(x)\n",
    "\n",
    "y = np.array([2,5,6,7,9])\n",
    "print(y)\n",
    "\n",
    "model = LinearRegression()\n",
    "model.fit(x,y)\n",
    "\n",
    "r_sq = model.score(x,y)\n",
    "print(r_sq)\n",
    "\n",
    "Intercept = model.intercept_\n",
    "coefficient = model.coef_\n",
    "y_pred = model.predict(x)\n",
    "y_pred = Intercept + coefficient * x\n",
    "\n",
    "x_new = np.arange(5).reshape(-1,1)\n",
    "y_new = model.predict(x_new)\n",
    "print(y_pred)\n",
    "\n",
    "plt.scatter(x,y)\n",
    "plt.plot(x,y_pred)\n",
    "plt.show()\n"
   ]
  },
  {
   "cell_type": "code",
   "execution_count": 15,
   "id": "4e4b82eb",
   "metadata": {},
   "outputs": [
    {
     "name": "stdout",
     "output_type": "stream",
     "text": [
      "[[0 1]\n",
      " [2 3]\n",
      " [4 5]\n",
      " [6 7]\n",
      " [8 9]]\n",
      "[2 5 6 7 9]\n",
      "0.9552238805970149\n",
      "2.1999999999999993\n",
      "[0.4 0.4]\n",
      "[2.6 4.2 5.8 7.4 9. ]\n",
      "[[2.2 2.6]\n",
      " [3.  3.4]\n",
      " [3.8 4.2]\n",
      " [4.6 5. ]\n",
      " [5.4 5.8]]\n",
      "[ 2.6  4.2  5.8  7.4  9.  10.6 12.2 13.8 15.4 17. ]\n"
     ]
    }
   ],
   "source": [
    "#Multilinear Regression\n",
    "\n",
    "x = np.arange(10).reshape(-1,2)\n",
    "print(x)\n",
    "\n",
    "y = np.array([2,5,6,7,9])\n",
    "print(y)\n",
    "\n",
    "model = LinearRegression()\n",
    "model.fit(x,y)\n",
    "\n",
    "r_sq = model.score(x,y)\n",
    "print(r_sq)\n",
    "\n",
    "print(model.intercept_)\n",
    "print(model.coef_)\n",
    "y_pred = model.predict(x)\n",
    "print(y_pred)\n",
    "print(model.intercept_ + model.coef_ * x)\n",
    "\n",
    "x_new = np.arange(20).reshape(-1,2)\n",
    "y_new = model.predict(x_new)\n",
    "print(y_new)\n",
    "\n"
   ]
  },
  {
   "cell_type": "code",
   "execution_count": 18,
   "id": "dc03e03e",
   "metadata": {},
   "outputs": [
    {
     "name": "stdout",
     "output_type": "stream",
     "text": [
      "r_sq = 0.9922779922779923\n",
      "Intercept = 2.114285714285713\n",
      "Coefficient = [ 1.77142857 -0.14285714]\n",
      "[2.11428571 3.74285714 5.08571429 6.14285714 6.91428571]\n"
     ]
    }
   ],
   "source": [
    "#PolynomialRegression\n",
    "from sklearn.preprocessing import PolynomialFeatures\n",
    "\n",
    "x = np.arange(5).reshape(-1,1)\n",
    "y = np.array([2,4,5,6,7])\n",
    "transformer = PolynomialFeatures(degree = 2, include_bias=False)\n",
    "transformer.fit(x)\n",
    "x_ = transformer.transform(x)\n",
    "model = LinearRegression().fit(x_,y)\n",
    "print(\"r_sq =\",model.score(x_,y))\n",
    "print(\"Intercept =\",model.intercept_)\n",
    "print(\"Coefficient =\",model.coef_ )\n",
    "\n",
    "y_pred = model.predict(x_)\n",
    "print(y_pred)\n",
    "\n"
   ]
  }
 ],
 "metadata": {
  "kernelspec": {
   "display_name": "Python 3 (ipykernel)",
   "language": "python",
   "name": "python3"
  },
  "language_info": {
   "codemirror_mode": {
    "name": "ipython",
    "version": 3
   },
   "file_extension": ".py",
   "mimetype": "text/x-python",
   "name": "python",
   "nbconvert_exporter": "python",
   "pygments_lexer": "ipython3",
   "version": "3.9.12"
  }
 },
 "nbformat": 4,
 "nbformat_minor": 5
}
