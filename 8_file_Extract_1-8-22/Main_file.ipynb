{
 "cells": [
  {
   "cell_type": "code",
   "execution_count": 16,
   "id": "7e4c5305",
   "metadata": {},
   "outputs": [
    {
     "ename": "AttributeError",
     "evalue": "'_io.TextIOWrapper' object has no attribute 'colse'",
     "output_type": "error",
     "traceback": [
      "\u001b[1;31m---------------------------------------------------------------------------\u001b[0m",
      "\u001b[1;31mAttributeError\u001b[0m                            Traceback (most recent call last)",
      "Input \u001b[1;32mIn [16]\u001b[0m, in \u001b[0;36m<cell line: 3>\u001b[1;34m()\u001b[0m\n\u001b[0;32m      1\u001b[0m file \u001b[38;5;241m=\u001b[39m \u001b[38;5;28mopen\u001b[39m(\u001b[38;5;124m\"\u001b[39m\u001b[38;5;124mf1.txt\u001b[39m\u001b[38;5;124m\"\u001b[39m,\u001b[38;5;124m\"\u001b[39m\u001b[38;5;124mw\u001b[39m\u001b[38;5;124m\"\u001b[39m)\n\u001b[0;32m      2\u001b[0m file\u001b[38;5;241m.\u001b[39mwrite(\u001b[38;5;124m\"\u001b[39m\u001b[38;5;124mawzsexdcrfvgbhnjmASXDCFVBYUIMNUIM@#$\u001b[39m\u001b[38;5;124m%\u001b[39m\u001b[38;5;124m^&*(!@#$\u001b[39m\u001b[38;5;124m%\u001b[39m\u001b[38;5;124m^&*()87654321234567890435702\u001b[39m\u001b[38;5;124m\"\u001b[39m)\n\u001b[1;32m----> 3\u001b[0m \u001b[43mfile\u001b[49m\u001b[38;5;241;43m.\u001b[39;49m\u001b[43mcolse\u001b[49m()\n\u001b[0;32m      4\u001b[0m file \u001b[38;5;241m=\u001b[39m \u001b[38;5;28mopen\u001b[39m(\u001b[38;5;124m\"\u001b[39m\u001b[38;5;124mf1.txt\u001b[39m\u001b[38;5;124m\"\u001b[39m,\u001b[38;5;124m\"\u001b[39m\u001b[38;5;124mr\u001b[39m\u001b[38;5;124m\"\u001b[39m)\n\u001b[0;32m      5\u001b[0m x\u001b[38;5;241m=\u001b[39mfile\u001b[38;5;241m.\u001b[39mread()\n",
      "\u001b[1;31mAttributeError\u001b[0m: '_io.TextIOWrapper' object has no attribute 'colse'"
     ]
    }
   ],
   "source": [
    "file = open(\"f1.txt\",\"w\")\n",
    "file.write(\"awzsexdcrfvgbhnjmASXDCFVBYUIMNUIM@#$%^&*(!@#$%^&*()87654321234567890435702\")\n",
    "file.colse()\n",
    "file = open(\"f1.txt\",\"r\")\n",
    "data=file.read()\n",
    "print(data)\n",
    "\n",
    "samll = open(\"small.txt\",\"w\")\n",
    "upper = open(\"upper.txt\",\"w\")\n",
    "num = open(\"num.txt\",\"w\")\n",
    "spec = open(\"spec.txt\",\"w\")\n",
    "\n",
    "for i in data:\n",
    "    if i.islower()==True:\n",
    "        \n",
    "    \n",
    "\n",
    "\n",
    "small.close()\n",
    "upper.close()\n",
    "num.close()\n",
    "spec.close()"
   ]
  },
  {
   "cell_type": "code",
   "execution_count": null,
   "id": "0cbb0418",
   "metadata": {},
   "outputs": [],
   "source": []
  }
 ],
 "metadata": {
  "kernelspec": {
   "display_name": "Python 3 (ipykernel)",
   "language": "python",
   "name": "python3"
  },
  "language_info": {
   "codemirror_mode": {
    "name": "ipython",
    "version": 3
   },
   "file_extension": ".py",
   "mimetype": "text/x-python",
   "name": "python",
   "nbconvert_exporter": "python",
   "pygments_lexer": "ipython3",
   "version": "3.9.12"
  }
 },
 "nbformat": 4,
 "nbformat_minor": 5
}
